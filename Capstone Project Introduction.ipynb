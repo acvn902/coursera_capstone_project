{
    "cells": [
        {
            "cell_type": "markdown",
            "metadata": {},
            "source": "<h1 align=center><font size = 5>IBM Applied Data Science Capstone Project</font></h1>"
        },
        {
            "cell_type": "markdown",
            "metadata": {},
            "source": "## Introduction\n\nThis Jupyter Notebook includes information on the subject of the Applied Data Science Project implemebted by [Georgios Trakakis](https://www.linkedin.com/in/georgios-trakakis/?originalSubdomain=uk) for the purposes of the [IBM Data Science Professional Specialization](https://www.coursera.org/professional-certificates/ibm-data-science)"
        },
        {
            "cell_type": "markdown",
            "metadata": {},
            "source": "## Project Description"
        },
        {
            "cell_type": "markdown",
            "metadata": {},
            "source": "London is a major global city and world cultural capital, with strengths in the arts, commerce, education, entertainment, fashion, finance, healthcare, media, professional services, research and development, tourism, and transportation. A major settlement for 2,000 years, London is the world's largest financial centre and the 5th or 6th richest city in the world. The property investment capital of the UK, London has a diverse array of housing and communities across a giant urban area. You can find different types of long-let investment property in various areas to suit most budgets, and being the world's most-visited city as measured by international arrivals means there is no shortage of short-let opportunities too. Having the largest concentration of higher education institutes in Europe guarantees that London has an active student property rental market as well.\n\nThe above reasons constitute London one of the most expensive places for someone to live.Demand for housing and real estate continues to be robust despite Brexit uncertainty.While it is clear that the UK Parliament wishes to avoid a no-deal Brexit, there is little consensus about what form a future arrangement with the EU should take.\n\nThe main objective of this survey is to examine what factors influence most the price of a real estate assets and which houses will be less inelastic to demand should a No deal Brexit occurs.How can the surroundings venues influence the price of the asset and in what extend?Which factor has the larger influence on the price of the asset?\nThe above survey will help real estate investors to focus on regions that have surrounding venues and amenities that drive the price of the housing up.Therefore,should Brexit occur,their losses will be minimum in terms of asset devaluation."
        },
        {
            "cell_type": "markdown",
            "metadata": {},
            "source": "## Data Description"
        },
        {
            "cell_type": "markdown",
            "metadata": {},
            "source": "The data that will be used for this project will be acquired from the following sources:\n\n* The Neighbourhoods of London and their postcodes using Wikipedia(https://en.wikipedia.org/wiki/List_of_areas_of_London)\n* The average prices of properies by neighbourhood and by \u00a3/sqft in London(https://propertydata.co.uk/cities/london)\n* The venues in each Neighbourhood in London area(https://developer.foursquare.com/)\n* Coordinates of each Neighbourhood/postcode using geocoder python library(https://developers.arcgis.com/python/guide/using-the-geocode-function/)\n   \n    \n    \n    "
        },
        {
            "cell_type": "markdown",
            "metadata": {},
            "source": "<i><u> Note on Data:</u> The data will only include the price of each propery using \u00a3/sqft since we do not want to consider properties that have different attributes(e.g 2 bathrooms or 3 bedrooms) which will create noise in our survey."
        },
        {
            "cell_type": "markdown",
            "metadata": {},
            "source": "## Project Steps"
        },
        {
            "cell_type": "markdown",
            "metadata": {},
            "source": "1) Scrape the Neighbourhoods html data from Wikipedia using Beautiful Soup library.\n\n2) Scrape the Propery prices from html format on the internet to dataframe using Beautiful Soup library.\n\n3) Explore the Venues in each Neighbourhood using Foursquare API.\n\n4) Get the latitude and longitude data using Geocoder.Arcgis library.\n\n5) Scrape all the data above and combine them into one dataframe.\n\n6) Group by Neighbourhood and count the occurrences of each venue type for each Neighbourhood.\n\n7) Cluster each Neighbourhood based on their venues and add the cluster back into the initial dataframe\n\n8) Identify patterns in each cluster and the most common venues.Explore what causes the increased price of the property based on the venues.\n\n9) In the initial datafame without the labels we will implement multiple linear regression in order to quantify the impact-weight of each venue in the price of the properties.\n\n10) Try PCA (Principal Component Analysis) PCA regression in order to find the venues that have the most impact and reduce the dimension of our data.\n\n11) Write the summary of our results"
        },
        {
            "cell_type": "markdown",
            "metadata": {},
            "source": "### Thank you for reading.\n\nThis notebook was created by [Georgios Trakakis](https://www.linkedin.com/in/georgios-trakakis/?originalSubdomain=uk) for the purposes of the [IBM Data Science Professional Specialization](https://www.coursera.org/professional-certificates/ibm-data-science)"
        }
    ],
    "metadata": {
        "kernelspec": {
            "display_name": "Python",
            "language": "python",
            "name": "conda-env-python-py"
        },
        "language_info": {
            "codemirror_mode": {
                "name": "ipython",
                "version": 3
            },
            "file_extension": ".py",
            "mimetype": "text/x-python",
            "name": "python",
            "nbconvert_exporter": "python",
            "pygments_lexer": "ipython3",
            "version": "3.6.7"
        },
        "widgets": {
            "state": {},
            "version": "1.1.2"
        }
    },
    "nbformat": 4,
    "nbformat_minor": 4
}